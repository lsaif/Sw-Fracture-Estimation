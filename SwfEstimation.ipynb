{
  "nbformat": 4,
  "nbformat_minor": 0,
  "metadata": {
    "colab": {
      "name": "SwfEstimation.ipynb",
      "provenance": [],
      "authorship_tag": "ABX9TyO39paaH3lnlPQ5jKY6Rdcm",
      "include_colab_link": true
    },
    "kernelspec": {
      "name": "python3",
      "display_name": "Python 3"
    }
  },
  "cells": [
    {
      "cell_type": "markdown",
      "metadata": {
        "id": "view-in-github",
        "colab_type": "text"
      },
      "source": [
        "<a href=\"https://colab.research.google.com/github/lsaif/SwFractureEstimation/blob/master/SwfEstimation.ipynb\" target=\"_parent\"><img src=\"https://colab.research.google.com/assets/colab-badge.svg\" alt=\"Open In Colab\"/></a>"
      ]
    },
    {
      "cell_type": "markdown",
      "metadata": {
        "id": "g-fhhhs50UOI",
        "colab_type": "text"
      },
      "source": [
        "###**Load Data and Intitial Configuration**"
      ]
    },
    {
      "cell_type": "code",
      "metadata": {
        "id": "hFMPGOzAYvKo",
        "colab_type": "code",
        "colab": {
          "base_uri": "https://localhost:8080/",
          "height": 55
        },
        "outputId": "05fb6ed5-eeef-423b-a57c-8c4d542b0cea"
      },
      "source": [
        "from google.colab import files\n",
        "from google.colab import drive\n",
        "drive.mount('/content/drive')\n",
        "\n",
        "import pandas as pd\n",
        "import numpy as np\n",
        "import sys\n",
        "import matplotlib.pyplot as plt\n",
        "import os\n",
        "\n",
        "np.set_printoptions(threshold=sys.maxsize)\n",
        "pd.set_option('display.max_rows', None)\n",
        "pd.set_option('display.max_columns', None)\n",
        "pd.set_option('display.width', None)\n",
        "\n",
        "source_dir = '/content/drive/My Drive/Swf/ProdChan/'\n",
        "result_dir = '/content/drive/My Drive/Swf/Result/'\n",
        "\n",
        "B = 1.5\n",
        "visc_oil = 3.071\n",
        "visc_water = 0.215\n",
        "Swf_initial =[]"
      ],
      "execution_count": 78,
      "outputs": [
        {
          "output_type": "stream",
          "text": [
            "Drive already mounted at /content/drive; to attempt to forcibly remount, call drive.mount(\"/content/drive\", force_remount=True).\n"
          ],
          "name": "stdout"
        }
      ]
    },
    {
      "cell_type": "markdown",
      "metadata": {
        "id": "fWNQJCZq0bzN",
        "colab_type": "text"
      },
      "source": [
        "##**Modules to load, calculate, and plot data**"
      ]
    },
    {
      "cell_type": "code",
      "metadata": {
        "id": "XkPxPw68dGOP",
        "colab_type": "code",
        "colab": {}
      },
      "source": [
        "def LoadData(filename):\n",
        "  db = pd.DataFrame()\n",
        "  db = pd.read_csv(f\"/{source_dir}/{filename}\", sep=',', skiprows=2)\n",
        "  db.columns =['Time','Date','Well','OilRate','LiquidRate','GasRate','WaterRate','WaterCut','GOR','WOR','WOR:','smoothing']\n",
        "  return db\n",
        "\n",
        "def CalculateSwf(data):\n",
        "  Swf = []\n",
        "  Well = data['Well'].any()\n",
        "  Date = pd.to_datetime(data['Date'])\n",
        "  WOR = data['WOR']\n",
        "  Swf = visc_water*WOR/(B*visc_oil+visc_water*WOR)\n",
        "  return Well, Date, Swf\n",
        "\n",
        "def PlotData(well, date, swf):\n",
        "  plt.clf()\n",
        "  fig = plt.gcf()\n",
        "  fig.set_size_inches(10, 4)\n",
        "  plt.tick_params(labelsize=10)\n",
        "  plt.ylim([0,1])\n",
        "  plt.ylabel('Swf',{'fontsize': 10, 'fontweight' : 5})\n",
        "  plt.xlabel('Year',{'fontsize': 10, 'fontweight' : 5})\n",
        "  plt.title(well,{'fontsize': 15, 'fontweight' : 5})\n",
        "  plt.scatter(date,swf,label='Sw fracture')\n",
        "  plt.grid()\n",
        "  plt.legend()\n",
        "  return plt.savefig(f\"{result_dir}/{well}.png\")"
      ],
      "execution_count": 124,
      "outputs": []
    },
    {
      "cell_type": "markdown",
      "metadata": {
        "id": "qoGcN8w40kyz",
        "colab_type": "text"
      },
      "source": [
        "##**Run**"
      ]
    },
    {
      "cell_type": "code",
      "metadata": {
        "id": "IqdQaIkTeUZ-",
        "colab_type": "code",
        "colab": {}
      },
      "source": [
        "for f in os.listdir(source_dir):\n",
        "  data = LoadData(f)\n",
        "  well, date, swf, swf_initial = CalculateSwf(data)\n",
        "  PlotData(well, date, swf, swf_initial)\n",
        "  print(well)\n",
        "print(\"Done\")"
      ],
      "execution_count": null,
      "outputs": []
    }
  ]
}